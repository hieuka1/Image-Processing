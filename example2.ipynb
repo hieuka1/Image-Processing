{
 "cells": [
  {
   "cell_type": "code",
   "execution_count": 1,
   "metadata": {},
   "outputs": [],
   "source": [
    "import numpy as np\n",
    "import cv2"
   ]
  },
  {
   "cell_type": "code",
   "execution_count": 26,
   "metadata": {},
   "outputs": [
    {
     "name": "stdout",
     "output_type": "stream",
     "text": [
      "(2205, 3528, 3)\n",
      "hI, hI: 2205 3528\n",
      "hJ, hJ: 453 700\n",
      "hI-hJ, wI-wJ 1752 2828\n",
      "out.shape: (2205, 3528)\n",
      "(1752, 2828)\n",
      "(452, 699)\n"
     ]
    }
   ],
   "source": [
    "def resize_img():\n",
    "    I = cv2.cvtColor(cv2.imread(\"foreground.png\"), cv2.COLOR_BGR2RGB)\n",
    "    hI = I.shape[0]\n",
    "    wI = I.shape[1]\n",
    "    print(\"hI, hI:\", hI, wI)\n",
    "    J = cv2.cvtColor(cv2.imread(\"background.png\"), cv2.COLOR_BGR2RGB)\n",
    "    hJ = J.shape[0]\n",
    "    wJ = J.shape[1]\n",
    "    print(\"hJ, hJ:\",hJ, wJ)\n",
    "    x = hI - hJ\n",
    "    y = wI - wJ\n",
    "    print(\"hI-hJ, wI-wJ\", x, y)\n",
    "    out = np.zeros((hI, wI))\n",
    "    print(\"out.shape:\", out.shape)\n",
    "    out[:x, :y] = 0\n",
    "    print(out[:x, :y].shape)\n",
    "    out[x+1:, y+1:] = 1\n",
    "    print(out[x+1:, y+1:].shape)\n",
    "resize_img()"
   ]
  },
  {
   "cell_type": "code",
   "execution_count": 45,
   "metadata": {},
   "outputs": [
    {
     "ename": "ValueError",
     "evalue": "could not broadcast input array from shape (0,1,3) into shape (1,2,3)",
     "output_type": "error",
     "traceback": [
      "\u001b[1;31m---------------------------------------------------------------------------\u001b[0m",
      "\u001b[1;31mValueError\u001b[0m                                Traceback (most recent call last)",
      "\u001b[1;32m<ipython-input-45-21f98fde1e98>\u001b[0m in \u001b[0;36m<module>\u001b[1;34m\u001b[0m\n\u001b[0;32m     23\u001b[0m     \u001b[0mprint\u001b[0m\u001b[1;33m(\u001b[0m\u001b[0mg_img\u001b[0m\u001b[1;33m,\u001b[0m \u001b[0mg_img\u001b[0m\u001b[1;33m.\u001b[0m\u001b[0mshape\u001b[0m\u001b[1;33m)\u001b[0m\u001b[1;33m\u001b[0m\u001b[1;33m\u001b[0m\u001b[0m\n\u001b[0;32m     24\u001b[0m     \u001b[1;32mreturn\u001b[0m \u001b[0mcvimg\u001b[0m\u001b[1;33m,\u001b[0m \u001b[0mnsize\u001b[0m\u001b[1;33m\u001b[0m\u001b[1;33m\u001b[0m\u001b[0m\n\u001b[1;32m---> 25\u001b[1;33m \u001b[0mresize\u001b[0m\u001b[1;33m(\u001b[0m\u001b[1;34m\"background.png\"\u001b[0m\u001b[1;33m)\u001b[0m\u001b[1;33m\u001b[0m\u001b[1;33m\u001b[0m\u001b[0m\n\u001b[0m",
      "\u001b[1;32m<ipython-input-43-b67e0dca2364>\u001b[0m in \u001b[0;36mresize\u001b[1;34m(path, sizes)\u001b[0m\n\u001b[0;32m     16\u001b[0m         \u001b[1;32mfor\u001b[0m \u001b[0mgx\u001b[0m \u001b[1;32min\u001b[0m \u001b[0mrange\u001b[0m\u001b[1;33m(\u001b[0m\u001b[0mgw\u001b[0m\u001b[1;33m)\u001b[0m\u001b[1;33m:\u001b[0m\u001b[1;33m\u001b[0m\u001b[1;33m\u001b[0m\u001b[0m\n\u001b[0;32m     17\u001b[0m             \u001b[0mx\u001b[0m\u001b[1;33m,\u001b[0m \u001b[0mw\u001b[0m \u001b[1;33m=\u001b[0m \u001b[0mgx\u001b[0m\u001b[1;33m*\u001b[0m\u001b[0mpw\u001b[0m\u001b[1;33m,\u001b[0m \u001b[1;33m(\u001b[0m\u001b[0mgx\u001b[0m\u001b[1;33m*\u001b[0m\u001b[0mpw\u001b[0m\u001b[1;33m)\u001b[0m\u001b[1;33m+\u001b[0m\u001b[0mpw\u001b[0m\u001b[1;33m\u001b[0m\u001b[1;33m\u001b[0m\u001b[0m\n\u001b[1;32m---> 18\u001b[1;33m             \u001b[0mcvimg\u001b[0m\u001b[1;33m[\u001b[0m\u001b[0my\u001b[0m\u001b[1;33m:\u001b[0m\u001b[0mh\u001b[0m\u001b[1;33m,\u001b[0m \u001b[0mx\u001b[0m\u001b[1;33m:\u001b[0m\u001b[0mw\u001b[0m\u001b[1;33m]\u001b[0m \u001b[1;33m=\u001b[0m \u001b[0mg_img\u001b[0m\u001b[1;33m[\u001b[0m\u001b[0mgy\u001b[0m\u001b[1;33m:\u001b[0m\u001b[0mgy\u001b[0m\u001b[1;33m+\u001b[0m\u001b[1;36m1\u001b[0m\u001b[1;33m,\u001b[0m \u001b[0mgx\u001b[0m\u001b[1;33m:\u001b[0m\u001b[0mgx\u001b[0m\u001b[1;33m+\u001b[0m\u001b[1;36m1\u001b[0m\u001b[1;33m]\u001b[0m\u001b[1;33m\u001b[0m\u001b[1;33m\u001b[0m\u001b[0m\n\u001b[0m\u001b[0;32m     19\u001b[0m     \u001b[0mnsize\u001b[0m \u001b[1;33m=\u001b[0m \u001b[1;33m[\u001b[0m\u001b[0mnw\u001b[0m\u001b[1;33m,\u001b[0m \u001b[0mnh\u001b[0m\u001b[1;33m]\u001b[0m\u001b[1;33m\u001b[0m\u001b[1;33m\u001b[0m\u001b[0m\n\u001b[0;32m     20\u001b[0m     \u001b[0mcv2\u001b[0m\u001b[1;33m.\u001b[0m\u001b[0mimshow\u001b[0m\u001b[1;33m(\u001b[0m\u001b[1;34m\"J\"\u001b[0m\u001b[1;33m,\u001b[0m \u001b[0mg_img\u001b[0m\u001b[1;33m)\u001b[0m\u001b[1;33m\u001b[0m\u001b[1;33m\u001b[0m\u001b[0m\n",
      "\u001b[1;31mValueError\u001b[0m: could not broadcast input array from shape (0,1,3) into shape (1,2,3)"
     ]
    }
   ],
   "source": [
    "def resize_image(path, sizes = (2205, 3528)):\n",
    "    nw, nh = sizes\n",
    "    g_img = cv2.imread(path)\n",
    "\n",
    "    gw, gh = g_img.shape[0], g_img.shape[1]\n",
    "    nw, nh = gw+510, gh+510\n",
    "    pw, ph = int(nw/gw), int(nh/gh)\n",
    "    if (pw == 0):pw = 1\n",
    "    if (ph == 0):ph = 1\n",
    "    nw, nh = pw*gw, ph*gh\n",
    "\n",
    "    cvimg = np.zeros((nh,nw,3), np.uint8)\n",
    "\n",
    "    for gy in range(gh):\n",
    "        y, h = gy*ph, (gy*ph)+ph\n",
    "        for gx in range(gw):\n",
    "            x, w = gx*pw, (gx*pw)+pw\n",
    "            cvimg[y:h, x:w] = g_img[gy:gy+1, gx:gx+1]\n",
    "    nsize = [nw, nh]\n",
    "    cv2.imshow(\"J\", g_img)\n",
    "    cv2.imshow(\"newJ\", cvimg)\n",
    "    cv2.waitKey(0)\n",
    "    print(g_img, g_img.shape)\n",
    "    return cvimg, nsize\n",
    "resize(\"background.png\")"
   ]
  },
  {
   "cell_type": "code",
   "execution_count": 50,
   "metadata": {},
   "outputs": [],
   "source": [
    "import scipy"
   ]
  },
  {
   "cell_type": "code",
   "execution_count": 51,
   "metadata": {},
   "outputs": [
    {
     "data": {
      "text/plain": [
       "'1.3.1'"
      ]
     },
     "execution_count": 51,
     "metadata": {},
     "output_type": "execute_result"
    }
   ],
   "source": [
    "scipy.__version__"
   ]
  },
  {
   "cell_type": "code",
   "execution_count": null,
   "metadata": {},
   "outputs": [],
   "source": []
  }
 ],
 "metadata": {
  "kernelspec": {
   "display_name": "Python 3",
   "language": "python",
   "name": "python3"
  },
  "language_info": {
   "codemirror_mode": {
    "name": "ipython",
    "version": 3
   },
   "file_extension": ".py",
   "mimetype": "text/x-python",
   "name": "python",
   "nbconvert_exporter": "python",
   "pygments_lexer": "ipython3",
   "version": "3.7.4"
  }
 },
 "nbformat": 4,
 "nbformat_minor": 2
}

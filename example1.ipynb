{
 "cells": [
  {
   "cell_type": "code",
   "execution_count": 2,
   "metadata": {},
   "outputs": [],
   "source": [
    "import numpy as np\n",
    "import cv2"
   ]
  },
  {
   "cell_type": "code",
   "execution_count": 3,
   "metadata": {},
   "outputs": [
    {
     "name": "stdout",
     "output_type": "stream",
     "text": [
      "[[  0   0   0 ...   0   0   0]\n",
      " [  0  17  14 ...   6   7   0]\n",
      " [  0  10  11 ...   6   9   0]\n",
      " ...\n",
      " [  0 237   4 ... 111  65   0]\n",
      " [  0 252  24 ... 107  47   0]\n",
      " [  0   0   0 ...   0   0   0]]\n",
      "[[15 12 11 ...  7  9 11]\n",
      " [15 14 13 ...  7  8  9]\n",
      " [13 13 13 ...  7  8  8]\n",
      " ...\n",
      " [38 12 11 ... 90 76 72]\n",
      " [43 18 18 ... 87 73 76]\n",
      " [46 21 21 ... 89 79 75]]\n",
      "[[ 15  12  11 ...   7   9  11]\n",
      " [ 15  31  27 ...  13  15   9]\n",
      " [ 13  23  24 ...  13  17   8]\n",
      " ...\n",
      " [ 38 249  15 ... 201 141  72]\n",
      " [ 43  14  42 ... 194 120  76]\n",
      " [ 46  21  21 ...  89  79  75]]\n"
     ]
    }
   ],
   "source": [
    "def S_red():\n",
    "    img = cv2.cvtColor(cv2.imread(\"GreenVietnam.png\"), cv2.COLOR_BGR2RGB)\n",
    "    mask = np.array([[0, -1, 0],[-1, 5, -1],[0, -1, 0]])\n",
    "    img = img[:,:,0] #768 1241 3\n",
    "    img_height = img.shape[0]\n",
    "    img_width = img.shape[1]\n",
    "    mask_height = mask.shape[0] #mask[3x3]\n",
    "    mask_width = mask.shape[1]\n",
    "    H = (mask_height - 1) // 2 #H, W = (1, 1)\n",
    "    W = (mask_width - 1) // 2\n",
    "    out = np.zeros((img_height, img_width))\n",
    "    for i in np.arange(H, img_height - H):\n",
    "        for j in np.arange(W, img_width - W):\n",
    "            sum = 0\n",
    "            for k in np.arange(-H, H + 1):\n",
    "                for l in np.arange(-W, W + 1):\n",
    "                    a = img[i + k, j + l]\n",
    "                    w = mask[H + k, W + l]\n",
    "                    sum += (w * a)\n",
    "            out[i, j] = sum \n",
    "            #out[1:img_height - H , 1: img_width - W] xoa duong 0 ben ngoai\n",
    "    return out.astype(np.uint8)\n",
    "print(S_red())\n",
    "img = cv2.cvtColor(cv2.imread(\"GreenVietnam.png\"), cv2.COLOR_BGR2RGB)\n",
    "print(img[:,:,0])\n",
    "print(np.add(S_red(), img[:,:,0]))"
   ]
  },
  {
   "cell_type": "code",
   "execution_count": 5,
   "metadata": {},
   "outputs": [
    {
     "name": "stdout",
     "output_type": "stream",
     "text": [
      "[[  0   0   0 ...   0   0   0]\n",
      " [  0  34  31 ...  20  24   0]\n",
      " [  0  33  34 ...  20  23   0]\n",
      " ...\n",
      " [  0 243  16 ... 139  83   0]\n",
      " [  0   2  30 ... 131  79   0]\n",
      " [  0   0   0 ...   0   0   0]]\n",
      "[[ 34  31  30 ...  21  23  22]\n",
      " [ 34  33  32 ...  21  22  20]\n",
      " [ 34  34  34 ...  21  22  22]\n",
      " ...\n",
      " [ 41  18  21 ... 112  95  86]\n",
      " [ 49  25  28 ... 111  97  95]\n",
      " [ 52  28  34 ... 115 105  97]]\n",
      "[[ 34  31  30 ...  21  23  22]\n",
      " [ 34  67  63 ...  41  46  20]\n",
      " [ 34  67  68 ...  41  45  22]\n",
      " ...\n",
      " [ 41   5  37 ... 251 178  86]\n",
      " [ 49  27  58 ... 242 176  95]\n",
      " [ 52  28  34 ... 115 105  97]]\n"
     ]
    }
   ],
   "source": [
    "def S_green():\n",
    "    img = cv2.cvtColor(cv2.imread(\"GreenVietnam.png\"), cv2.COLOR_BGR2RGB)\n",
    "    mask = np.array([[0, -1, 0],[-1, 5, -1],[0, -1, 0]])\n",
    "    img = img[:,:,1] #768 1241 3\n",
    "    img_height = img.shape[0]\n",
    "    img_width = img.shape[1]\n",
    "    mask_height = mask.shape[0] #mask[3x3]\n",
    "    mask_width = mask.shape[1]\n",
    "    H = (mask_height - 1) // 2 #H, W = (1, 1)\n",
    "    W = (mask_width - 1) // 2\n",
    "    out = np.zeros((img_height, img_width))\n",
    "    for i in np.arange(H, img_height - H):\n",
    "        for j in np.arange(W, img_width - W):\n",
    "            sum = 0\n",
    "            for k in np.arange(-H, H + 1):\n",
    "                for l in np.arange(-W, W + 1):\n",
    "                    a = img[i + k, j + l]\n",
    "                    w = mask[H + k, W + l]\n",
    "                    sum += (w * a)\n",
    "            out[i, j] = sum\n",
    "    #out[1:img_height - H , 1: img_width - W] xoa duong 0 ben ngoai\n",
    "    return out.astype(np.uint8)\n",
    "print(S_green())\n",
    "img = cv2.cvtColor(cv2.imread(\"GreenVietnam.png\"), cv2.COLOR_BGR2RGB)\n",
    "print(img[:,:,1])\n",
    "print(np.add(S_green(), img[:,:,1]))"
   ]
  },
  {
   "cell_type": "code",
   "execution_count": 6,
   "metadata": {},
   "outputs": [
    {
     "name": "stdout",
     "output_type": "stream",
     "text": [
      "[[  0   0   0 ...   0   0   0]\n",
      " [  0  33  30 ...  22  25   0]\n",
      " [  0  23  24 ...  19  22   0]\n",
      " ...\n",
      " [  0 246 250 ...  53   2   0]\n",
      " [  0 238   4 ...  47 242   0]\n",
      " [  0   0   0 ...   0   0   0]]\n",
      "[[30 27 26 ... 22 24 24]\n",
      " [30 29 28 ... 22 23 22]\n",
      " [27 27 27 ... 21 22 22]\n",
      " ...\n",
      " [10  0  0 ... 27 14 11]\n",
      " [15  0  3 ... 23 11 14]\n",
      " [16  0  6 ... 24 18 14]]\n",
      "[[ 30  27  26 ...  22  24  24]\n",
      " [ 30  62  58 ...  44  48  22]\n",
      " [ 27  50  51 ...  40  44  22]\n",
      " ...\n",
      " [ 10 246 250 ...  80  16  11]\n",
      " [ 15 238   7 ...  70 253  14]\n",
      " [ 16   0   6 ...  24  18  14]]\n"
     ]
    }
   ],
   "source": [
    "def S_blue():\n",
    "    img = cv2.cvtColor(cv2.imread(\"GreenVietnam.png\"), cv2.COLOR_BGR2RGB)\n",
    "    mask = np.array([[0, -1, 0],[-1, 5, -1],[0, -1, 0]])\n",
    "    img = img[:,:,2] #768 1241 3\n",
    "    img_height = img.shape[0]\n",
    "    img_width = img.shape[1]\n",
    "    mask_height = mask.shape[0] #mask[3x3]\n",
    "    mask_width = mask.shape[1]\n",
    "    H = (mask_height - 1) // 2 #H, W = (1, 1)\n",
    "    W = (mask_width - 1) // 2\n",
    "    out = np.zeros((img_height, img_width))\n",
    "    for i in np.arange(H, img_height - H):\n",
    "        for j in np.arange(W, img_width - W):\n",
    "            sum = 0\n",
    "            for k in np.arange(-H, H + 1):\n",
    "                for l in np.arange(-W, W + 1):\n",
    "                    a = img[i + k, j + l]\n",
    "                    w = mask[H + k, W + l]\n",
    "                    sum += (w * a)\n",
    "            out[i, j] = sum\n",
    "   #out[1:img_height - H , 1: img_width - W] xoa duong 0 ben ngoai\n",
    "    return out.astype(np.uint8)\n",
    "print(S_blue())\n",
    "img = cv2.cvtColor(cv2.imread(\"GreenVietnam.png\"), cv2.COLOR_BGR2RGB)\n",
    "print(img[:,:,2])\n",
    "print(np.add(S_blue(), img[:,:,2]))"
   ]
  },
  {
   "cell_type": "code",
   "execution_count": 11,
   "metadata": {},
   "outputs": [
    {
     "name": "stdout",
     "output_type": "stream",
     "text": [
      "[[[  0   0   0]\n",
      "  [  0   0   0]\n",
      "  [  0   0   0]\n",
      "  ...\n",
      "  [  0   0   0]\n",
      "  [  0   0   0]\n",
      "  [  0   0   0]]\n",
      "\n",
      " [[  0   0   0]\n",
      "  [ 33  34  17]\n",
      "  [ 30  31  14]\n",
      "  ...\n",
      "  [ 22  20   6]\n",
      "  [ 25  24   7]\n",
      "  [  0   0   0]]\n",
      "\n",
      " [[  0   0   0]\n",
      "  [ 23  33  10]\n",
      "  [ 24  34  11]\n",
      "  ...\n",
      "  [ 19  20   6]\n",
      "  [ 22  23   9]\n",
      "  [  0   0   0]]\n",
      "\n",
      " ...\n",
      "\n",
      " [[  0   0   0]\n",
      "  [246 243 237]\n",
      "  [250  16   4]\n",
      "  ...\n",
      "  [ 53 139 111]\n",
      "  [  2  83  65]\n",
      "  [  0   0   0]]\n",
      "\n",
      " [[  0   0   0]\n",
      "  [238   2 252]\n",
      "  [  4  30  24]\n",
      "  ...\n",
      "  [ 47 131 107]\n",
      "  [242  79  47]\n",
      "  [  0   0   0]]\n",
      "\n",
      " [[  0   0   0]\n",
      "  [  0   0   0]\n",
      "  [  0   0   0]\n",
      "  ...\n",
      "  [  0   0   0]\n",
      "  [  0   0   0]\n",
      "  [  0   0   0]]]\n"
     ]
    }
   ],
   "source": [
    "r = S_red()\n",
    "g = S_green()\n",
    "b = S_blue()\n",
    "S = cv2.merge([b, g, r])\n",
    "print(S)"
   ]
  },
  {
   "cell_type": "code",
   "execution_count": 15,
   "metadata": {},
   "outputs": [
    {
     "data": {
      "text/plain": [
       "-1"
      ]
     },
     "execution_count": 15,
     "metadata": {},
     "output_type": "execute_result"
    }
   ],
   "source": [
    "cv2.imshow(\"S\", S)\n",
    "cv2.waitKey(0)"
   ]
  }
 ],
 "metadata": {
  "kernelspec": {
   "display_name": "Python 3",
   "language": "python",
   "name": "python3"
  },
  "language_info": {
   "codemirror_mode": {
    "name": "ipython",
    "version": 3
   },
   "file_extension": ".py",
   "mimetype": "text/x-python",
   "name": "python",
   "nbconvert_exporter": "python",
   "pygments_lexer": "ipython3",
   "version": "3.7.4"
  }
 },
 "nbformat": 4,
 "nbformat_minor": 2
}
